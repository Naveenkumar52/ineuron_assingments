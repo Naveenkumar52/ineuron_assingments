{
 "cells": [
  {
   "attachments": {},
   "cell_type": "markdown",
   "metadata": {},
   "source": [
    "Assignment_11"
   ]
  },
  {
   "attachments": {},
   "cell_type": "markdown",
   "metadata": {},
   "source": [
    "Q_1. What is the role of the 'else' block in a try-except statement? Provide an example scenario where it would be useful.\n",
    "\n",
    "The else block in a try-except statement is optional and is executed only if no exceptions are raised in the try block. Its purpose is to specify the code that should run when the try block completes successfully without any exceptions."
   ]
  },
  {
   "cell_type": "code",
   "execution_count": 1,
   "metadata": {},
   "outputs": [
    {
     "name": "stdout",
     "output_type": "stream",
     "text": [
      "The division was successful.\n",
      "Result: 5\n"
     ]
    }
   ],
   "source": [
    "try:\n",
    "    num1 = int(input(\"Enter the num_1: \"))\n",
    "    num2 = int(input(\"Enter the num_2: \"))\n",
    "    \n",
    "    result = num1 * num2\n",
    "    \n",
    "except ValueError:\n",
    "    print(\"Error: Invalid input. Please enter integers only.\")\n",
    "    \n",
    "except ZeroDivisionError:\n",
    "    print(\"Error: Cannot divide by zero.\")\n",
    "    \n",
    "else:\n",
    "    print(\"The division was successful.\")\n",
    "    print(\"Result:\", result)\n"
   ]
  },
  {
   "attachments": {},
   "cell_type": "markdown",
   "metadata": {},
   "source": [
    "Q_2. Can a try-except block be nested inside another try-except block? Explain with an example.\n",
    "\n",
    "Yes, a try-except block can be nested inside another try-except block. This is known as nested exception handling. It allows for handling exceptions at different levels of code execution, providing more fine-grained control over error handling."
   ]
  },
  {
   "cell_type": "code",
   "execution_count": 1,
   "metadata": {},
   "outputs": [
    {
     "name": "stdout",
     "output_type": "stream",
     "text": [
      "Result: 15\n"
     ]
    }
   ],
   "source": [
    "try:\n",
    "    try:\n",
    "        a = int(input(\"Enter the a: \"))\n",
    "        b = int(input(\"Enter the b: \"))\n",
    "        \n",
    "        result = a + b\n",
    "        print(\"Result:\", result)\n",
    "        \n",
    "    except ValueError:\n",
    "        print(\"Error: Invalid input. Please enter integers only.\")\n",
    "        \n",
    "except ZeroDivisionError:\n",
    "    print(\"Error: Cannot divide by zero.\")\n"
   ]
  },
  {
   "attachments": {},
   "cell_type": "markdown",
   "metadata": {},
   "source": [
    "Q_3. How can you create a custom exception class in Python? Provide an example that demonstrates its usage.\n",
    "\n",
    "To create a custom exception class in Python, we have to define a new class that inherits from the Exception class or any of its subclasses."
   ]
  },
  {
   "cell_type": "code",
   "execution_count": 2,
   "metadata": {},
   "outputs": [
    {
     "name": "stdout",
     "output_type": "stream",
     "text": [
      "Error: Invalid input. Expected an integer.\n"
     ]
    }
   ],
   "source": [
    "class InvalidInputError(Exception):\n",
    "    pass\n",
    "\n",
    "def process_input(value):\n",
    "    if not isinstance(value, int):\n",
    "        raise InvalidInputError(\"Invalid input. Expected an integer.\")\n",
    "\n",
    "try:\n",
    "    value = input(\"Enter an integer: \")\n",
    "    process_input(value)\n",
    "    print(\"Input is valid.\")\n",
    "\n",
    "except InvalidInputError as e:\n",
    "    print(\"Error:\", str(e))\n"
   ]
  },
  {
   "attachments": {},
   "cell_type": "markdown",
   "metadata": {},
   "source": [
    "Q_4. What are some common exceptions that are built-in to Python?\n",
    "\n",
    "Python provides several built-in exceptions that cover a wide range of error conditions. \n",
    "\n",
    "a) TypeError: Raised when an operation or function is applied to an object of an inappropriate type.\n",
    "\n",
    "b) ValueError: Raised when a function receives an argument of the correct type but an invalid value.\n",
    "\n",
    "c) NameError: Raised when a local or global name is not found.\n",
    "\n",
    "d) IndexError: Raised when a sequence subscript is out of range.\n",
    "\n",
    "e) KeyError: Raised when a dictionary key is not found.\n",
    "\n",
    "f) FileNotFoundError: Raised when an attempt to open a file fails because the file does not exist.\n",
    "\n",
    "g) ZeroDivisionError: Raised when division or modulo operation is performed with a divisor of zero.\n",
    "\n",
    "h) ImportError: Raised when an import statement fails to find and load a module."
   ]
  },
  {
   "attachments": {},
   "cell_type": "markdown",
   "metadata": {},
   "source": [
    "Q_5. What is logging in Python, and why is it important in software development?\n",
    "\n",
    "Logging in Python refers to the process of recording log messages during the execution of a program. It involves capturing and storing information about events, errors, and other relevant details that occur while the program runs. The built-in logging module in Python provides a flexible and powerful framework for implementing logging functionality.\n",
    "\n",
    "Overall, logging plays a crucial role in understanding, maintaining, and improving software applications. It helps in identifying and resolving issues, monitoring system health, ensuring compliance, and providing valuable insights for analysis and reporting."
   ]
  },
  {
   "attachments": {},
   "cell_type": "markdown",
   "metadata": {},
   "source": [
    "Q_6. Explain the purpose of log levels in Python logging and provide examples of when\n",
    "each log level would be appropriate.\n",
    "\n",
    "Log levels in Python logging are used to categorize and prioritize log messages based on their severity or importance. They provide a way to differentiate between different types of log events and control which messages are displayed or recorded based on their level. Python's logging module defines several built-in log levels, each serving a specific purpose.\n",
    "\n",
    "DEBUG: This is the lowest log level, used for detailed diagnostic information during development and debugging. It is typically used for messages that help developers trace the flow of execution, display variable values, or provide other detailed information for troubleshooting.\n",
    "\n",
    "Example: Logging the values of variables or the execution path within a function for debugging purposes.\n",
    "\n",
    "INFO: This level is used to convey general information about the program's execution. It is typically used to indicate the progress or milestones of the program, such as when a specific process starts or completes successfully.\n",
    "\n",
    "Example: Logging a message indicating that a service has started or that an operation has been completed successfully.\n",
    "\n",
    "WARNING: This level is used to indicate a potential issue or warning that does not prevent the program from functioning but might require attention. It signifies a condition that might lead to an error or unexpected behavior.\n",
    "\n",
    "Example: Logging a warning message when a deprecated function is called, suggesting an alternative approach.\n",
    "\n",
    "ERROR: This level is used to indicate an error or exceptional condition that has occurred but does not terminate the program. It signifies a failure or unexpected behavior that needs attention.\n",
    "\n",
    "Example: Logging an error message when an input validation fails or an external service returns an unexpected response.\n",
    "\n",
    "CRITICAL: This is the highest log level, used to indicate critical errors or severe failures that might lead to the program's termination or significant functionality loss.\n",
    "\n",
    "Example: Logging a critical error when a required configuration file is missing or when a database connection fails."
   ]
  },
  {
   "attachments": {},
   "cell_type": "markdown",
   "metadata": {},
   "source": [
    "Q_7. What are log formatters in Python logging, and how can you customise the log message format using formatters?\n",
    "\n",
    "Log formatters in Python logging are used to define the format of log messages. They determine how the log messages are structured and what information is included in each message. The logging module provides a Formatter class that allows customization of the log message format.\n",
    "\n",
    "Create an instance of the logging.Formatter class.\n",
    "\n",
    "formatter = logging.Formatter('<format_string>')\n",
    "\n",
    "Specify the desired format string by providing placeholders and formatting options. The placeholders are predefined strings that represent different log record attributes, such as time, log level, module name, message, etc. You can also include custom text or symbols as needed.\n",
    "\n",
    "Example format string: '%(asctime)s - %(name)s - %(levelname)s - %(message)s'\n",
    "\n",
    "Here are some commonly used placeholders:\n",
    "\n",
    "%(asctime)s: Timestamp of the log record.\n",
    "%(levelname)s: Log level of the message (e.g., DEBUG, INFO, ERROR).\n",
    "%(message)s: The log message itself.\n",
    "%(name)s: The name of the logger.\n",
    "%(module)s: The name of the module where the log event occurred.\n",
    "\n",
    "Set the formatter for the desired handler(s) using the setFormatter() method.\n",
    "\n",
    "handler.setFormatter(formatter)\n",
    "This associates the formatter with the handler, ensuring that the log messages generated by that handler are formatted according to the specified format string."
   ]
  },
  {
   "attachments": {},
   "cell_type": "markdown",
   "metadata": {},
   "source": [
    "Q_8. How can you set up logging to capture log messages from multiple modules or classes in a Python application?\n",
    "\n",
    "a) Import the logging module:\n",
    "\n",
    "import logging\n",
    "\n",
    "b) Configure the root logger with a desired log level:\n",
    "\n",
    "logging.basicConfig(level=logging.DEBUG)\n",
    "\n",
    "\n",
    "c) Add appropriate logging calls in the modules or classes where you want to capture log messages:\n",
    "\n",
    "logger.debug('This is a debug message')\n",
    "\n",
    "logger.info('This is an info message')\n",
    "\n",
    "logger.warning('This is a warning message')\n",
    "\n",
    "logger.error('This is an error message')\n"
   ]
  },
  {
   "attachments": {},
   "cell_type": "markdown",
   "metadata": {},
   "source": [
    "Q_9. What is the difference between the logging and print statements in Python? When should you use logging over print statements in a real-world application?\n",
    "\n",
    "Logging:\n",
    "\n",
    "a) Logging is a dedicated module (logging) in Python that provides a flexible and configurable logging system.\n",
    "\n",
    "b) Logging allows you to capture and manage log messages with different levels of severity (e.g., debug, info, warning, error, critical).\n",
    "\n",
    "c) Log messages can be directed to different handlers, such as the console, files, or external services.\n",
    "\n",
    "Print Statements:\n",
    "\n",
    "a) The print statement is a built-in Python feature that outputs a string representation of objects to the console.\n",
    "\n",
    "b) Print statements are primarily used for temporary debugging or quick information display during development.\n",
    "\n",
    "c) Print statements do not offer the same level of configurability, logging levels, or log management features as the logging module.\n",
    "\n",
    "In a real-world application, it is recommended to use logging over print statements for the following reasons:\n",
    "\n",
    "a) Granular Control\n",
    "\n",
    "b)Configurability\n",
    "\n",
    "c)Centralized Logging\n",
    "\n",
    "d)Runtime Enable/Disable"
   ]
  },
  {
   "attachments": {},
   "cell_type": "markdown",
   "metadata": {},
   "source": [
    "Q_10. Write a Python program that logs a message to a file named \"app.log\" with the following requirements:\n",
    "\n",
    "● The log message should be \"Hello, World!\"\n",
    "\n",
    "● The log level should be set to \"INFO.\"\n",
    "\n",
    "● The log file should append new log entries without overwriting previous ones."
   ]
  },
  {
   "cell_type": "code",
   "execution_count": 2,
   "metadata": {},
   "outputs": [],
   "source": [
    "import logging as lg\n",
    "import os\n",
    "\n",
    "os.mkdir('app')"
   ]
  },
  {
   "cell_type": "code",
   "execution_count": 4,
   "metadata": {},
   "outputs": [],
   "source": [
    "os.chdir(os.getcwd()+'/'+'app')"
   ]
  },
  {
   "cell_type": "code",
   "execution_count": 6,
   "metadata": {},
   "outputs": [],
   "source": [
    "lg.basicConfig(filename='app.log',level=lg.INFO,format ='%(asctime)s %(message)s')"
   ]
  },
  {
   "cell_type": "code",
   "execution_count": 7,
   "metadata": {},
   "outputs": [],
   "source": [
    "lg.info(\"Hello World! \")\n"
   ]
  },
  {
   "attachments": {},
   "cell_type": "markdown",
   "metadata": {},
   "source": [
    "Q_11. Create a Python program that logs an error message to the console and a file named \"errors.log\" if an exception occurs during the program's execution. The error message should include the exception type and a timestamp."
   ]
  },
  {
   "cell_type": "code",
   "execution_count": 8,
   "metadata": {},
   "outputs": [
    {
     "name": "stdout",
     "output_type": "stream",
     "text": [
      "The quotient is: None\n"
     ]
    }
   ],
   "source": [
    "import logging\n",
    "import datetime\n",
    "\n",
    "# Configure logging\n",
    "logging.basicConfig(level=logging.ERROR, format='%(asctime)s [%(levelname)s] %(message)s', filename='errors.log')\n",
    "\n",
    "def divide_numbers(num1, num2):\n",
    "    try:\n",
    "        result = num1 / num2\n",
    "        return result\n",
    "    except Exception as e:\n",
    "        # Log the exception\n",
    "        logging.error(f'Exception occurred: {type(e).__name__} - {str(e)}')\n",
    "\n",
    "# Example usage\n",
    "try:\n",
    "    dividend = 10\n",
    "    divisor = 0\n",
    "    quotient = divide_numbers(dividend, divisor)\n",
    "    print(f\"The quotient is: {quotient}\")\n",
    "except Exception as e:\n",
    "    # Log the exception\n",
    "    logging.error(f'Exception occurred: {type(e).__name__} - {str(e)}')\n"
   ]
  }
 ],
 "metadata": {
  "kernelspec": {
   "display_name": "base",
   "language": "python",
   "name": "python3"
  },
  "language_info": {
   "codemirror_mode": {
    "name": "ipython",
    "version": 3
   },
   "file_extension": ".py",
   "mimetype": "text/x-python",
   "name": "python",
   "nbconvert_exporter": "python",
   "pygments_lexer": "ipython3",
   "version": "3.9.7"
  },
  "orig_nbformat": 4
 },
 "nbformat": 4,
 "nbformat_minor": 2
}

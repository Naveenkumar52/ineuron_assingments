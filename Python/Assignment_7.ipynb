{
 "cells": [
  {
   "attachments": {},
   "cell_type": "markdown",
   "metadata": {},
   "source": [
    "Python Basics_2"
   ]
  },
  {
   "attachments": {},
   "cell_type": "markdown",
   "metadata": {},
   "source": [
    "Create two int type variables, apply addition, subtraction, division and multiplications\n",
    "and store the results in variables. Then print the data in the following format by calling the\n",
    "variables:\n",
    "First variable is __ & second variable is __.\n",
    "\n",
    "Addition: __ + __ = __\n",
    "\n",
    "Subtraction: __ - __ = __\n",
    "\n",
    "Multiplication: __ * __ = __\n",
    "\n",
    "Division: __ / __ = __"
   ]
  },
  {
   "cell_type": "code",
   "execution_count": 16,
   "metadata": {},
   "outputs": [
    {
     "name": "stdout",
     "output_type": "stream",
     "text": [
      "First variable is 8 & Second variable is 4\n",
      "Addition :  8 + 4 = 12\n",
      "Subtraction :  8 - 4 = 4\n",
      "Multiplication :  8 * 4 = 32\n",
      "Division :  8 / 4 = 2.0\n"
     ]
    }
   ],
   "source": [
    "first_variable = int(input('Enter the num' ))\n",
    "second_variable = int(input('Enter the num' ))\n",
    "\n",
    "print('First variable is',first_variable, '&',  'Second variable is', second_variable)\n",
    "\n",
    "def addition():\n",
    "    return first_variable + second_variable\n",
    "\n",
    "def subtraction():\n",
    "    return first_variable - second_variable\n",
    "\n",
    "def multiplication():\n",
    "    return first_variable * second_variable\n",
    "\n",
    "def division():\n",
    "    return first_variable / second_variable\n",
    "\n",
    "\n",
    "print('Addition : ', first_variable,'+',second_variable, '=', addition())\n",
    "print('Subtraction : ', first_variable,'-',second_variable, '=', subtraction())\n",
    "print('Multiplication : ', first_variable,'*',second_variable, '=', multiplication())\n",
    "print('Division : ', first_variable,'/',second_variable, '=', division())"
   ]
  },
  {
   "attachments": {},
   "cell_type": "markdown",
   "metadata": {},
   "source": [
    "Q_2. What is the difference between the following operators:\n",
    "(i) ‘/’ & ‘//’\n",
    "(ii) ‘**’ & ‘^’\n",
    "\n",
    "\n",
    "'/' performs regular division and returns a floating-point result, while '//' performs floor division and returns an integer result. '**' is the exponentiation operator, whereas '^' is not used for exponentiation but for bitwise XOR operations."
   ]
  },
  {
   "attachments": {},
   "cell_type": "markdown",
   "metadata": {},
   "source": [
    "Q_3. List the logical operators.\n",
    "\n",
    "Python offers three logical or boolean operators, \"and\", \"or\" and \"not\" operators. These work on one or more operands, and depending on their values, evaluate to True or False."
   ]
  },
  {
   "attachments": {},
   "cell_type": "markdown",
   "metadata": {},
   "source": [
    "Q_4. Explain right shift operator and left shift operator with examples.\n",
    "\n",
    "the right shift (>>) and left shift (<<) operators are bitwise shift operators used to perform bit-level shifting on integers.\n",
    "\n",
    "Right Shift Operator (>>):\n",
    "The right shift operator shifts the bits of a number to the right by a specified number of positions. It effectively divides the number by 2 raised to the power of the shift amount, discarding the rightmost bits.\n",
    "Syntax: number >> shift_amount\n",
    "\n",
    "Example:\n",
    "#Right shift by 2 positions\n",
    "\n",
    "number = 10\n",
    "\n",
    "shifted = number >> 2\n",
    "\n",
    "print(shifted)  # Output: 2\n",
    "\n",
    "#Binary representation:\n",
    "\n",
    "#10 (decimal) -> 1010 (binary)\n",
    "\n",
    "#After right shift by 2 positions: 10 (binary) -> 2 (decimal)\n",
    "\n",
    "In this example, the number 10 is right-shifted by 2 positions, resulting in the value 2. The binary representation of 10 is 1010, and after the right shift, the rightmost two bits are discarded, resulting in the binary value 10, which is equal to 2 in decimal.\n",
    "\n",
    "Left Shift Operator (<<):\n",
    "The left shift operator shifts the bits of a number to the left by a specified number of positions. It effectively multiplies the number by 2 raised to the power of the shift amount.\n",
    "Syntax: number << shift_amount\n",
    "\n",
    "Example:\n",
    "\n",
    "#Left shift by 3 positions\n",
    "\n",
    "number = 5\n",
    "\n",
    "shifted = number << 3\n",
    "\n",
    "\n",
    "print(shifted)  # Output: 40\n",
    "\n",
    "#Binary representation:\n",
    "\n",
    "#5 (decimal) -> 101 (binary)\n",
    "\n",
    "#After left shift by 3 positions: 101 (binary) -> 40 (decimal)\n",
    "\n",
    "In this example, the number 5 is left-shifted by 3 positions, resulting in the value 40. The binary representation of 5 is 101, and after the left shift, three zeros are added to the right, resulting in the binary value 101000, which is equal to 40 in decimal."
   ]
  },
  {
   "attachments": {},
   "cell_type": "markdown",
   "metadata": {},
   "source": [
    "Q_5. Create a list containing int type data of length 15. Then write a code to check if 10 is\n",
    "present in the list or not."
   ]
  },
  {
   "cell_type": "code",
   "execution_count": 20,
   "metadata": {},
   "outputs": [
    {
     "name": "stdout",
     "output_type": "stream",
     "text": [
      "10 is present in the list.\n"
     ]
    }
   ],
   "source": [
    "# Create a list of length 15 with integer values\n",
    "my_list = [5, 2, 8, 10, 15, 6, 12, 9, 4, 7, 3, 11, 1, 14, 13]\n",
    "\n",
    "# Check if 10 is present in the list\n",
    "if 10 in my_list:\n",
    "    print(\"10 is present in the list.\")\n",
    "else:\n",
    "    print(\"10 is not present in the list.\")\n"
   ]
  },
  {
   "cell_type": "code",
   "execution_count": 21,
   "metadata": {},
   "outputs": [
    {
     "name": "stdout",
     "output_type": "stream",
     "text": [
      "10 is present in the list.\n"
     ]
    }
   ],
   "source": [
    "if any(x == 10 for x in my_list):\n",
    "    print(\"10 is present in the list.\")\n",
    "else:\n",
    "    print(\"10 is not present in the list.\")"
   ]
  }
 ],
 "metadata": {
  "kernelspec": {
   "display_name": "base",
   "language": "python",
   "name": "python3"
  },
  "language_info": {
   "codemirror_mode": {
    "name": "ipython",
    "version": 3
   },
   "file_extension": ".py",
   "mimetype": "text/x-python",
   "name": "python",
   "nbconvert_exporter": "python",
   "pygments_lexer": "ipython3",
   "version": "3.9.7"
  },
  "orig_nbformat": 4
 },
 "nbformat": 4,
 "nbformat_minor": 2
}

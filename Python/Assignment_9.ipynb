{
 "cells": [
  {
   "attachments": {},
   "cell_type": "markdown",
   "metadata": {},
   "source": [
    "Function assignment"
   ]
  },
  {
   "attachments": {},
   "cell_type": "markdown",
   "metadata": {},
   "source": [
    "Q_1. What is a lambda function in Python, and how does it differ from a regular function?\n",
    "a lambda function is a small, anonymous function defined using the lambda keyword. It is also known as an anonymous function because it does not require a formal name like regular functions defined with the def keyword. Lambda functions are typically used for short, one-line functions that don't need to be defined separately.\n",
    "\n",
    "numbers = [1, 2, 3, 4, 5]\n",
    "\n",
    "#Use a lambda function with map() to square each number\n",
    "\n",
    "squared_numbers = map(lambda x: x**2, numbers)\n",
    "\n",
    "print(list(squared_numbers))\n",
    "\n",
    "#Output: [1, 4, 9, 16, 25]\n"
   ]
  },
  {
   "attachments": {},
   "cell_type": "markdown",
   "metadata": {},
   "source": [
    "Q_2. Can a lambda function in Python have multiple arguments? If yes, how can you define and use\n",
    "them?\n",
    "\n",
    "Yes, a lambda function in Python can have multiple arguments. To define multiple arguments in a lambda function, you simply separate them with commas within the parentheses.\n",
    "\n",
    "multiply = lambda x, y: x * y\n",
    "\n",
    "result = multiply(5, 3)\n",
    "\n",
    "print(result) #output 15"
   ]
  },
  {
   "attachments": {},
   "cell_type": "markdown",
   "metadata": {},
   "source": [
    "Q_3. How are lambda functions typically used in Python? Provide an example use case."
   ]
  },
  {
   "cell_type": "code",
   "execution_count": 9,
   "metadata": {},
   "outputs": [
    {
     "name": "stdout",
     "output_type": "stream",
     "text": [
      "8\n"
     ]
    }
   ],
   "source": [
    "addition =lambda a,b:a+b\n",
    "result=addition(5,3)\n",
    "print(result)"
   ]
  },
  {
   "attachments": {},
   "cell_type": "markdown",
   "metadata": {},
   "source": [
    "Q_4. What are the advantages and limitations of lambda functions compared to regular functions in\n",
    "Python?\n",
    "\n",
    "Advantages of lambda functions:\n",
    "\n",
    "a) Concise syntax: Lambda functions allow you to write short, one-line functions without the need for a full function definition. This can make the code more readable and reduce the overall code length.\n",
    "\n",
    "b) Anonymous functions: Lambda functions are anonymous, meaning they don't require a formal name. They are often used as throwaway functions for immediate execution or as arguments to other functions.\n",
    "\n",
    "c)Inline usage: Lambda functions can be used directly in places where a function is expected, such as with higher-order functions like map(), filter(), or sort(). This eliminates the need for defining a separate function and provides more flexibility.\n",
    "\n",
    "Limitations of lambda functions:\n",
    "\n",
    "a) Single expression: Lambda functions are limited to a single expression. They are not suitable for complex logic or multiple statements. If you need more complex functionality, it's better to use regular functions.\n",
    "\n",
    "b) Limited readability: While lambda functions can be concise, they can also become difficult to read and understand, especially for complex operations. Regular functions with proper names and function bodies can provide better readability and maintainability.\n",
    "\n",
    "c) Lack of documentation and testing: Lambda functions lack the ability to include docstrings or proper documentation, which can make it harder for others (and even yourself) to understand their purpose and usage. Additionally, testing lambda functions can be more challenging compared to regular functions.\n",
    "\n",
    "d) Limited reusability: Lambda functions are typically used for immediate execution or as one-off functions. They are not designed for reuse or frequent invocation. Regular functions provide better reusability and modularity."
   ]
  },
  {
   "attachments": {},
   "cell_type": "markdown",
   "metadata": {},
   "source": [
    "Q_5. Are lambda functions in Python able to access variables defined outside of their own scope?\n",
    "Explain with an example.\n",
    "\n",
    "Yes, lambda functions in Python can access variables defined outside of their own scope. This is because lambda functions have access to the surrounding scope, including global variables and variables defined in the enclosing function.\n",
    "\n",
    "Here's an example to illustrate this:"
   ]
  },
  {
   "cell_type": "code",
   "execution_count": 10,
   "metadata": {},
   "outputs": [
    {
     "name": "stdout",
     "output_type": "stream",
     "text": [
      "15\n"
     ]
    }
   ],
   "source": [
    "def outer_function():\n",
    "    x = 10\n",
    "    lambda_func = lambda y: x + y\n",
    "    return lambda_func\n",
    "\n",
    "lambda_result = outer_function()\n",
    "print(lambda_result(5))\n"
   ]
  },
  {
   "attachments": {},
   "cell_type": "markdown",
   "metadata": {},
   "source": [
    "Q_6. Write a lambda function to calculate the square of a given number."
   ]
  },
  {
   "cell_type": "code",
   "execution_count": 15,
   "metadata": {},
   "outputs": [
    {
     "name": "stdout",
     "output_type": "stream",
     "text": [
      "25\n"
     ]
    }
   ],
   "source": [
    "def square_function():\n",
    "    lambda_func = lambda x: x** 2\n",
    "    return lambda_func\n",
    "\n",
    "lambda_result = square_function()\n",
    "print(lambda_result(5))"
   ]
  },
  {
   "cell_type": "code",
   "execution_count": 16,
   "metadata": {},
   "outputs": [
    {
     "name": "stdout",
     "output_type": "stream",
     "text": [
      "25\n"
     ]
    }
   ],
   "source": [
    "lambda_func = lambda x: x** 2\n",
    "print(lambda_result(5))"
   ]
  },
  {
   "attachments": {},
   "cell_type": "markdown",
   "metadata": {},
   "source": [
    "Q_7. Create a lambda function to find the maximum value in a list of integers."
   ]
  },
  {
   "cell_type": "code",
   "execution_count": 20,
   "metadata": {},
   "outputs": [
    {
     "name": "stdout",
     "output_type": "stream",
     "text": [
      "45\n"
     ]
    }
   ],
   "source": [
    "l=[12,32,23,45,5]\n",
    "lam_max=lambda x:max(l)\n",
    "print(lam_max(l))"
   ]
  },
  {
   "attachments": {},
   "cell_type": "markdown",
   "metadata": {},
   "source": [
    "Q_8. Implement a lambda function to filter out all the even numbers from a list of integers."
   ]
  },
  {
   "attachments": {},
   "cell_type": "markdown",
   "metadata": {},
   "source": []
  },
  {
   "cell_type": "code",
   "execution_count": 6,
   "metadata": {},
   "outputs": [
    {
     "name": "stdout",
     "output_type": "stream",
     "text": [
      "1 \n",
      "1 2 \n",
      "1 2 3 \n",
      "1 2 3 4 \n",
      "1 2 3 4 5 \n"
     ]
    }
   ],
   "source": [
    "n=int(input('enter the num: '))\n",
    "for i in range(n):\n",
    "    for j in range(i+1):\n",
    "        print(j+1,end=' ')\n",
    "    print()\n"
   ]
  },
  {
   "cell_type": "code",
   "execution_count": 7,
   "metadata": {},
   "outputs": [
    {
     "name": "stdout",
     "output_type": "stream",
     "text": [
      "1 \n",
      "2 1 \n",
      "3 2 1 \n",
      "4 3 2 1 \n",
      "5 4 3 2 1 \n"
     ]
    }
   ],
   "source": [
    "n=int(input('enter the num: '))\n",
    "for i in range(n):\n",
    "    for j in range(i,-1,-1):\n",
    "        print(j+1,end=' ')\n",
    "    print()"
   ]
  },
  {
   "cell_type": "code",
   "execution_count": 8,
   "metadata": {},
   "outputs": [
    {
     "name": "stdout",
     "output_type": "stream",
     "text": [
      "1 \n",
      "2 2 \n",
      "3 3 3 \n",
      "4 4 4 4 \n",
      "5 5 5 5 5 \n"
     ]
    }
   ],
   "source": [
    "n=int(input('enter the num: '))\n",
    "for i in range(n):\n",
    "    for j in range(i,-1,-1): # this does not matter as we are printing row values it can be done with i+1\n",
    "        print(i+1,end=' ')\n",
    "    print()"
   ]
  },
  {
   "cell_type": "code",
   "execution_count": 21,
   "metadata": {},
   "outputs": [
    {
     "name": "stdout",
     "output_type": "stream",
     "text": [
      "120.0\n"
     ]
    }
   ],
   "source": [
    "a=100/5\n",
    "b=20//3\n",
    "print(a*b)"
   ]
  },
  {
   "cell_type": "code",
   "execution_count": null,
   "metadata": {},
   "outputs": [],
   "source": []
  },
  {
   "cell_type": "code",
   "execution_count": null,
   "metadata": {},
   "outputs": [],
   "source": []
  }
 ],
 "metadata": {
  "kernelspec": {
   "display_name": "base",
   "language": "python",
   "name": "python3"
  },
  "language_info": {
   "codemirror_mode": {
    "name": "ipython",
    "version": 3
   },
   "file_extension": ".py",
   "mimetype": "text/x-python",
   "name": "python",
   "nbconvert_exporter": "python",
   "pygments_lexer": "ipython3",
   "version": "3.9.7"
  },
  "orig_nbformat": 4
 },
 "nbformat": 4,
 "nbformat_minor": 2
}

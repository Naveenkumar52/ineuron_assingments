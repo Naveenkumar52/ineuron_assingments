{
 "cells": [
  {
   "attachments": {},
   "cell_type": "markdown",
   "metadata": {},
   "source": [
    "Python Basics_1"
   ]
  },
  {
   "attachments": {},
   "cell_type": "markdown",
   "metadata": {},
   "source": [
    "Q_1 : What are keywords in python? Using the keyword library, print all the python keywords.\n",
    "\n",
    "\n",
    "Python keywords are special reserved words that have specific meanings and purposes and can't be used for anything but those specific purposes."
   ]
  },
  {
   "cell_type": "code",
   "execution_count": 1,
   "metadata": {},
   "outputs": [
    {
     "name": "stdout",
     "output_type": "stream",
     "text": [
      "False\n",
      "None\n",
      "True\n",
      "__peg_parser__\n",
      "and\n",
      "as\n",
      "assert\n",
      "async\n",
      "await\n",
      "break\n",
      "class\n",
      "continue\n",
      "def\n",
      "del\n",
      "elif\n",
      "else\n",
      "except\n",
      "finally\n",
      "for\n",
      "from\n",
      "global\n",
      "if\n",
      "import\n",
      "in\n",
      "is\n",
      "lambda\n",
      "nonlocal\n",
      "not\n",
      "or\n",
      "pass\n",
      "raise\n",
      "return\n",
      "try\n",
      "while\n",
      "with\n",
      "yield\n"
     ]
    }
   ],
   "source": [
    "import keyword\n",
    "\n",
    "all_keywords = keyword.kwlist\n",
    "\n",
    "for keyword in all_keywords:\n",
    "    print(keyword)\n"
   ]
  },
  {
   "attachments": {},
   "cell_type": "markdown",
   "metadata": {},
   "source": [
    "Q_2. What are the rules to create variables in python?\n",
    "\n",
    "Rules for Python variables:\n",
    "A variable name must start with a letter or the underscore character.\n",
    "A variable name cannot start with a number.\n",
    "A variable name can only contain alpha-numeric characters and underscores (A-z, 0-9, and _ )\n",
    "Variable names are case-sensitive (age, Age and AGE are three different variables)"
   ]
  },
  {
   "attachments": {},
   "cell_type": "markdown",
   "metadata": {},
   "source": [
    "Q_3. What are the standards and conventions followed for the nomenclature of variables in\n",
    "python to improve code readability and maintainability?\n",
    "\n",
    "\n",
    "there are several standards and conventions followed for variable naming to improve code readability and maintainability.Here are some\n",
    "\n",
    "1. descriptive names: Choose variable names that clearly convey their purpose and meaning. Avoid using generic names like x or temp, and instead, use descriptive names that provide context and explain the variable's role in the code.\n",
    "\n",
    "2. lowercase letters: Variable names in Python are typically written in lowercase letters. For example, my_variable instead of MyVariable or myVariable. This convention helps distinguish variables from class names, which are typically written in CamelCase.\n",
    "\n",
    "3. underscores for readability: When a variable name consists of multiple words, separate them with underscores (_). This is known as snake_case. For example, first_name instead of firstName or firstname. Using underscores improves readability and makes the variable name more distinct.\n",
    "\n"
   ]
  },
  {
   "attachments": {},
   "cell_type": "markdown",
   "metadata": {},
   "source": [
    "Q_4. What will happen if a keyword is used as a variable name?\n",
    "\n",
    "Keywords define the language's syntax rules and structure, and they cannot be used as variable names. And it will result in invaild sytanx error"
   ]
  },
  {
   "attachments": {},
   "cell_type": "markdown",
   "metadata": {},
   "source": [
    "Q_5. For what purpose def keyword is used?\n",
    "\n",
    "The def keyword is used to create, (or define) a function."
   ]
  },
  {
   "attachments": {},
   "cell_type": "markdown",
   "metadata": {},
   "source": [
    "Q_6. What is the operation of this special character ‘\\’?\n",
    "\n",
    "in Python is known as the backslash or escape character. It serves various purposes and has several operations associated with it\n",
    "\n",
    "a) The backslash is used to create escape sequences, which are special character combinations that represent characters that are difficult to type or have special meanings. For example, \\n represents a newline character, \\t represents a tab character, \\\" represents a double quote character, etc.\n",
    "\n",
    "b) The backslash can be used to continue a single logical line of code across multiple physical lines. By placing a backslash at the end of a line, Python interprets the code as a single line even though it spans multiple lines.\n",
    "\n",
    "c) In certain cases, the backslash is used to represent special characters or symbols that have a particular meaning. For example, \\b represents a backspace character, \\r represents a carriage return character, \\u or \\U is used for Unicode character representation, etc."
   ]
  },
  {
   "attachments": {},
   "cell_type": "markdown",
   "metadata": {},
   "source": [
    "Q_7. Give an example of the following conditions:\n",
    "(i) Homogeneous list\n",
    "(ii) Heterogeneous set\n",
    "(iii) Homogeneous tuple\n",
    "\n",
    "\n",
    "(i) Homogeneous list: A homogeneous list is a list where all elements have the same data type. Here's an example of a homogeneous list containing integers:\n",
    "numbers = [1, 2, 3, 4, 5]In this case, all elements in the list numbers are integers, making it a homogeneous list.\n",
    "\n",
    "(ii) Heterogeneous set: A heterogeneous set is a set where the elements can have different data types. Here's an example of a heterogeneous set:\n",
    "my_set = {1, 'apple', True, 3.14}In this example, the set my_set contains elements of different data types, including an integer (1), a string ('apple'), a boolean (True), and a floating-point number (3.14), making it a heterogeneous set.\n",
    "\n",
    "(iii) Homogeneous tuple: A homogeneous tuple is a tuple where all elements have the same data type. Here's an example of a homogeneous tuple containing strings:\n",
    "names = ('Alice', 'Bob', 'Charlie', 'David')In this case, all elements in the tuple names are strings, making it a homogeneous tuple."
   ]
  },
  {
   "attachments": {},
   "cell_type": "markdown",
   "metadata": {},
   "source": [
    "Q_7. Explain the mutable and immutable data types with proper explanation & examples.\n",
    "\n",
    "a) Mutable Data Types:\n",
    "Mutable data types are those whose values can be modified after they are created. This means you can change individual elements or properties of the object without creating a new object. Examples of mutable data types in Python include lists, dictionaries, and sets.\n",
    "\n",
    "Example 1: Lists\n",
    "my_list = [1, 2, 3]\n",
    "\n",
    "my_list[0] = 10  # Modifying an element\n",
    "\n",
    "print(my_list)   # Output: [10, 2, 3]\n",
    "\n",
    "Example 2: Dictionaries\n",
    "my_dict = {'name': 'John', 'age': 25}\n",
    "\n",
    "my_dict['age'] = 26  # Modifying a value\n",
    "\n",
    "print(my_dict)       # Output: {'name': 'John', 'age': 26}\n",
    "\n",
    "Example 3: Sets\n",
    "my_set = {1, 2, 3}\n",
    "my_set.add(4)  # Adding a new element\n",
    "\n",
    "print(my_set)  # Output: {1, 2, 3, 4}\n",
    "\n",
    "\n",
    "b) Immutable Data Types:\n",
    "Immutable data types are those whose values cannot be changed once they are created. This means you cannot modify individual elements or properties of the object directly. Examples of immutable data types in Python include strings, tuples, and numbers (integers, floats, etc.).\n",
    "\n",
    "Example 1: Strings\n",
    "my_string = \"Hello\"\n",
    "\n",
    "#Attempting to modify a character in a string raises an error.\n",
    "\n",
    "#my_string[0] = 'h'  # Raises TypeError: 'str' object does not support item assignment\n",
    "\n",
    "Example 2: Tuples\n",
    "my_tuple = (1, 2, 3)\n",
    "\n",
    "#Attempting to modify an element in a tuple raises an error\n",
    "\n",
    "#my_tuple[0] = 10  # Raises TypeError: 'tuple' object does not support item assignment\n",
    "\n",
    "Example 3: Numbers (integers, floats)\n",
    "my_number = 10\n",
    "\n",
    "#Attempting to modify a number directly raises an error.\n",
    "\n",
    "#my_number += 5  # Raises TypeError: 'int' object does not support item assignment"
   ]
  },
  {
   "attachments": {},
   "cell_type": "markdown",
   "metadata": {},
   "source": [
    "Q_9. Write a code to create the given structure using only for loop.\n",
    "     *\n",
    "    ***\n",
    "   *****\n",
    "  *******\n",
    " *********"
   ]
  },
  {
   "cell_type": "code",
   "execution_count": 2,
   "metadata": {},
   "outputs": [
    {
     "name": "stdout",
     "output_type": "stream",
     "text": [
      "     *\n",
      "    ***\n",
      "   *****\n",
      "  *******\n",
      " *********\n"
     ]
    }
   ],
   "source": [
    "def hill_top_pattern(rows):\n",
    "    for i in range(rows):\n",
    "        for j in range(rows - i):\n",
    "            print(\" \", end=\"\")\n",
    "        for k in range(2 * i + 1):\n",
    "            print(\"*\", end=\"\")\n",
    "        print()\n",
    "\n",
    "\n",
    "hill_top_pattern(5)\n"
   ]
  },
  {
   "attachments": {},
   "cell_type": "markdown",
   "metadata": {},
   "source": [
    "Q.10. Write a code to create the given structure using while loop.\n",
    "|||||||||\n",
    "|||||||\n",
    "|||||\n",
    "|||\n",
    "|"
   ]
  },
  {
   "cell_type": "code",
   "execution_count": 3,
   "metadata": {},
   "outputs": [
    {
     "name": "stdout",
     "output_type": "stream",
     "text": [
      "||||||||\n",
      "|||||||\n",
      "||||||\n",
      "|||||\n",
      "||||\n",
      "|||\n",
      "||\n",
      "|\n"
     ]
    }
   ],
   "source": [
    "def create_structure(rows):\n",
    "    while rows > 0:\n",
    "        print(\"|\" * rows)\n",
    "        rows -= 1\n",
    "\n",
    "# Example usage\n",
    "create_structure(8)\n"
   ]
  }
 ],
 "metadata": {
  "kernelspec": {
   "display_name": "base",
   "language": "python",
   "name": "python3"
  },
  "language_info": {
   "codemirror_mode": {
    "name": "ipython",
    "version": 3
   },
   "file_extension": ".py",
   "mimetype": "text/x-python",
   "name": "python",
   "nbconvert_exporter": "python",
   "pygments_lexer": "ipython3",
   "version": "3.9.7"
  },
  "orig_nbformat": 4
 },
 "nbformat": 4,
 "nbformat_minor": 2
}

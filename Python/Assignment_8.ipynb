{
 "cells": [
  {
   "attachments": {},
   "cell_type": "markdown",
   "metadata": {},
   "source": [
    "Q_1. In Python, what is the difference between a built-in function and a user-defined function? Provide an\n",
    "example of each.\n",
    "\n",
    "If you define the function yourself, it is a user-defined function. On the other hand, the Python function that come along with Python are known as in-built functions. All the functions apart from in-built functions and library functions come under the category of user-defined functions.\n",
    "\n",
    "Example for built-in-function\n",
    "\n",
    "my_list = [1, 2, 3, 4, 5]\n",
    "\n",
    "length = len(my_list)\n",
    "\n",
    "print(length)  # Output: 5\n",
    "\n",
    "Example for user-deined-function\n",
    "\n",
    "def greet(name):\n",
    "\n",
    "    print(\"Hello, \" + name + \"!\")\n",
    "\n",
    "greet(\"John\")  # Output: Hello, John!\n"
   ]
  },
  {
   "attachments": {},
   "cell_type": "markdown",
   "metadata": {},
   "source": [
    "Q_2. How can you pass arguments to a function in Python? Explain the difference between positional\n",
    "arguments and keyword arguments.\n",
    "\n",
    "Positional Arguments:\n",
    "Positional arguments are passed to a function based on their position or order. The arguments are matched with the function parameters based on their position. The order of the arguments in the function call must match the order of the parameters in the function definition.\n",
    "\n",
    "def greet(name, age):\n",
    "\n",
    "    print(\"Hello, \" + name + \"! You are \" + str(age) + \" years old.\")\n",
    "\n",
    "greet(\"John\", 25)\n",
    "\n",
    "\n",
    "\n",
    "Keyword Arguments:\n",
    "Keyword arguments are passed to a function using the name of the parameter along with the value. Instead of relying on the order, keyword arguments provide more clarity and flexibility in passing arguments.\n",
    "\n",
    "def greet(name, age):\n",
    "\n",
    "    print(\"Hello, \" + name + \"! You are \" + str(age) + \" years old.\")\n",
    "\n",
    "greet(age=25, name=\"John\")"
   ]
  },
  {
   "attachments": {},
   "cell_type": "markdown",
   "metadata": {},
   "source": [
    "Q_3. What is the purpose of the return statement in a function? Can a function have multiple return\n",
    "statements? Explain with an example.\n",
    "\n",
    "A return statement ends the execution of a function, and returns control to the calling function. No we cannot give a multiple return statements in a function, and here is the example,:\n",
    "\n",
    "def sum():\n",
    "\n",
    "    return a+b\n",
    "\n",
    "sum(5,3) #output will be 5+3=8"
   ]
  },
  {
   "attachments": {},
   "cell_type": "markdown",
   "metadata": {},
   "source": [
    "Q_4. What are lambda functions in Python? How are they different from regular functions? Provide an\n",
    "example where a lambda function can be useful.\n",
    "\n",
    "A lambda function is an anonymous function (i.e., defined without a name) that can take any number of arguments but, unlike normal functions, evaluates and returns only one expression.\n",
    "\n",
    "Differences between lambda functions and regular functions:\n",
    "\n",
    "Syntax: Lambda functions are defined in a more concise and compact syntax compared to regular functions. They consist of a single expression rather than a block of code.\n",
    "\n",
    "Name: Lambda functions are anonymous, meaning they do not have a specific name. They are usually used as a one-time, inline function.\n",
    "\n",
    "Usage: Lambda functions are commonly used for short, one-line operations where defining a separate named function is unnecessary and would add unnecessary complexity.\n",
    "\n"
   ]
  },
  {
   "cell_type": "code",
   "execution_count": 1,
   "metadata": {},
   "outputs": [
    {
     "name": "stdout",
     "output_type": "stream",
     "text": [
      "[(3, 2), (4, 3), (1, 5), (2, 8)]\n"
     ]
    }
   ],
   "source": [
    "# Sorting a list of tuples based on the second element\n",
    "my_list = [(1, 5), (3, 2), (2, 8), (4, 3)]\n",
    "\n",
    "sorted_list = sorted(my_list, key=lambda x: x[1])\n",
    "print(sorted_list)"
   ]
  },
  {
   "attachments": {},
   "cell_type": "markdown",
   "metadata": {},
   "source": [
    "Q_5. How does the concept of \"scope\" apply to functions in Python? Explain the difference between local\n",
    "scope and global scope.\n",
    "\n",
    "\"scope\" refers to the visibility and accessibility of variables within different parts of a program. The concept of scope applies to functions in Python, and it helps determine where variables can be accessed and modified.\n",
    "\n",
    "Local Scope:\n",
    "\n",
    "Local scope refers to the variables that are defined within a specific function. These variables are only accessible from within that function. They are created when the function is called and destroyed when the function execution completes.\n",
    "\n",
    "Example of local scope:\n",
    "\n",
    "def my_function():\n",
    "\n",
    "    x = 10  # Local variable\n",
    "\n",
    "    print(x)\n",
    "\n",
    "my_function()\n",
    "\n",
    "#Output: 10\n",
    "\n",
    "print(x)  # Error: NameError: name 'x' is not defined\n",
    "\n",
    "\n",
    "Global Scope:\n",
    "Global scope refers to the variables that are defined outside of any function or at the top level of a module. These variables are accessible throughout the entire program, including inside functions. They have a broader scope compared to local variables.\n",
    "Example of global scope:\n",
    "\n",
    "x = 10  # Global variable\n",
    "\n",
    "def my_function():\n",
    "\n",
    "    print(x)\n",
    "\n",
    "my_function()\n",
    "\n",
    "#Output: 10\n",
    "\n",
    "print(x)\n",
    "\n",
    "#Output: 10"
   ]
  },
  {
   "attachments": {},
   "cell_type": "markdown",
   "metadata": {},
   "source": [
    "Q_6. How can you use the \"return\" statement in a Python function to return multiple values?"
   ]
  },
  {
   "cell_type": "code",
   "execution_count": null,
   "metadata": {},
   "outputs": [],
   "source": [
    "def test(**args):\n",
    "    return n+n"
   ]
  },
  {
   "attachments": {},
   "cell_type": "markdown",
   "metadata": {},
   "source": [
    "Q_7. What is the difference between the \"pass by value\" and \"pass by reference\" concepts when it\n",
    "comes to function arguments in Python?\n",
    "\n",
    "Pass by Value:\n",
    "In pass by value, a copy of the value of the variable is passed to the function. Any modifications made to the parameter within the function do not affect the original variable.\n",
    "\n",
    "Pass by Reference:\n",
    "In pass by reference, a reference or memory address of the variable is passed to the function. Any modifications made to the parameter within the function affect the original variable."
   ]
  },
  {
   "attachments": {},
   "cell_type": "markdown",
   "metadata": {},
   "source": [
    "Q_8. Create a function that can intake integer or decimal value and do following operations:\n",
    "a. Logarithmic function (log x)\n",
    "b. Exponential function (exp(x))\n",
    "c. Power function with base 2 (2x)\n",
    "d. Square root"
   ]
  },
  {
   "cell_type": "code",
   "execution_count": 7,
   "metadata": {},
   "outputs": [
    {
     "name": "stdout",
     "output_type": "stream",
     "text": [
      "(1.144222799920162, 23.103866858722185, 8.815240927012887, 1.772004514666935)\n"
     ]
    }
   ],
   "source": [
    "import math\n",
    "\n",
    "def perform_operations(x):\n",
    "    # Logarithmic function (log x)\n",
    "    logarithm = math.log(x)\n",
    "    \n",
    "    # Exponential function (exp(x))\n",
    "    exponential = math.exp(x)\n",
    "    \n",
    "    # Power function with base 2 (2x)\n",
    "    power_of_two = math.pow(2, x)\n",
    "    \n",
    "    # Square root\n",
    "    square_root = math.sqrt(x)\n",
    "    \n",
    "    # Return the results\n",
    "    return logarithm, exponential, power_of_two, square_root\n",
    "\n",
    "result = perform_operations(3.14)\n",
    "print(result)"
   ]
  },
  {
   "attachments": {},
   "cell_type": "markdown",
   "metadata": {},
   "source": [
    "Q_9. Create a function that takes a full name as an argument and returns first name and last name."
   ]
  },
  {
   "cell_type": "code",
   "execution_count": 8,
   "metadata": {},
   "outputs": [
    {
     "name": "stdout",
     "output_type": "stream",
     "text": [
      "('Naveen', 'Kumar')\n"
     ]
    }
   ],
   "source": [
    "def extract_name(full_name):\n",
    "    # Split the full name into separate parts\n",
    "    name_parts = full_name.split()\n",
    "\n",
    "    # Extract the first name and last name\n",
    "    first_name = name_parts[0]\n",
    "    last_name = name_parts[-1]\n",
    "\n",
    "    # Return the first name and last name\n",
    "    return first_name, last_name\n",
    "\n",
    "result = extract_name(\"Naveen Kumar\")\n",
    "print(result)\n"
   ]
  }
 ],
 "metadata": {
  "kernelspec": {
   "display_name": "base",
   "language": "python",
   "name": "python3"
  },
  "language_info": {
   "codemirror_mode": {
    "name": "ipython",
    "version": 3
   },
   "file_extension": ".py",
   "mimetype": "text/x-python",
   "name": "python",
   "nbconvert_exporter": "python",
   "pygments_lexer": "ipython3",
   "version": "3.9.7"
  },
  "orig_nbformat": 4
 },
 "nbformat": 4,
 "nbformat_minor": 2
}

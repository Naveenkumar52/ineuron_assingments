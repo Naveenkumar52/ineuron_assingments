{
 "cells": [
  {
   "cell_type": "markdown",
   "id": "c8208673",
   "metadata": {},
   "source": [
    "# Assignment _1"
   ]
  },
  {
   "cell_type": "markdown",
   "id": "d2c1b319",
   "metadata": {},
   "source": [
    "# Q - 1 "
   ]
  },
  {
   "cell_type": "markdown",
   "id": "26a3772b",
   "metadata": {},
   "source": [
    "\n",
    "1. In the below elements which of them are values or an expression? eg:- values can be\n",
    "integer or string and expressions will be mathematical operators.\n",
    "*\n",
    "\n",
    "&#39;hello&#39;\n",
    "\n",
    "-87.8\n",
    "\n",
    "-\n",
    "\n",
    "/\n",
    "\n",
    "+\n",
    "\n",
    "6\n"
   ]
  },
  {
   "cell_type": "markdown",
   "id": "c8329e27",
   "metadata": {},
   "source": [
    "# A - 1"
   ]
  },
  {
   "cell_type": "markdown",
   "id": "08251fac",
   "metadata": {},
   "source": [
    "*  --> \n",
    "            Mathematical operator\n",
    "\n",
    "&#39;hello&#39; --> \n",
    "           string \n",
    "\n",
    "-87.8 --> \n",
    "            Floating number\n",
    "\n",
    "- --> \n",
    "            negative operator\n",
    "\n",
    "/ --> \n",
    "            division operator\n",
    "\n",
    "+ --> \n",
    "            addition operator\n",
    "\n",
    "6 --> \n",
    "            interger"
   ]
  },
  {
   "cell_type": "markdown",
   "id": "e05631f5",
   "metadata": {},
   "source": [
    "# Q - 2 "
   ]
  },
  {
   "cell_type": "markdown",
   "id": "43309ad0",
   "metadata": {},
   "source": [
    "What is the difference between string and variable?"
   ]
  },
  {
   "cell_type": "markdown",
   "id": "ac9fc6ee",
   "metadata": {},
   "source": [
    "# A - 2"
   ]
  },
  {
   "cell_type": "markdown",
   "id": "8dad8d73",
   "metadata": {},
   "source": [
    "String - is a specific type of data used to represent text & in python are surrounded by either single quotation \n",
    "        marks, or double quotation marks.'hello' is the same as \"hello\".\n",
    "        We can display a string literal with the print() function\n",
    "\n",
    "variable - is a storage location that can hold different types of data, including strings. \n",
    "           Variables can be used to store and manipulate various kinds of information throughout the execution of a program.Python has no command for declaring a variable & is created the moment you first assign a value to it.\n",
    "\n",
    "Example\n",
    "x = 5\n",
    "y = \"John\"\n",
    "print(x)\n",
    "print(y)\n",
    "\n",
    "ans - 5\n",
    "      John\n"
   ]
  },
  {
   "cell_type": "markdown",
   "id": "e3bad65c",
   "metadata": {},
   "source": [
    "# Q - 3"
   ]
  },
  {
   "cell_type": "markdown",
   "id": "b7d368b6",
   "metadata": {},
   "source": [
    "Describe three different data types."
   ]
  },
  {
   "cell_type": "markdown",
   "id": "886e5741",
   "metadata": {},
   "source": [
    "# A - 3"
   ]
  },
  {
   "cell_type": "markdown",
   "id": "f919eaca",
   "metadata": {},
   "source": [
    "Integer (int): The integer data type represents whole numbers without any fractional or decimal part. It includes both positive and negative numbers, as well as zero. Examples of integers are -5, 0, and 10.\n",
    "\n",
    "String (Str) :The string data type is used to represent a sequence of characters.Strings are typically enclosed in quotation marks, such as \"Hello, world!\" or 'Hello, world!'. They can include letters, numbers, symbols, and whitespace.\n",
    "\n",
    "Boolean: The boolean data type has two possible values, true or false. It is used to represent logical values or conditions. Booleans are commonly used in programming to control flow and make decisions based on certain conditions. "
   ]
  },
  {
   "cell_type": "markdown",
   "id": "7c6a2a01",
   "metadata": {},
   "source": [
    "# Q - 4"
   ]
  },
  {
   "cell_type": "markdown",
   "id": "52acc576",
   "metadata": {},
   "source": [
    "What is an expression made up of? What do all expressions do?"
   ]
  },
  {
   "cell_type": "markdown",
   "id": "948f3e1c",
   "metadata": {},
   "source": [
    "# A - 4"
   ]
  },
  {
   "cell_type": "markdown",
   "id": "4b3374c3",
   "metadata": {},
   "source": [
    "An expression is made up of a combination of values, variables, operators, and function calls that can be \n",
    "evaluated to produce a resulting value. It can represent a computation or a specific operation.\n",
    "\n",
    "1. Performing calculations\n",
    "2. Making comparisons\n",
    "3. Assigning values\n",
    "4. Controlling program flow"
   ]
  },
  {
   "cell_type": "markdown",
   "id": "e7b9ce46",
   "metadata": {},
   "source": [
    "# Q - 5"
   ]
  },
  {
   "cell_type": "markdown",
   "id": "02cb5cc1",
   "metadata": {},
   "source": [
    "This assignment statements, like spam = 10. What is the difference between an\n",
    "expression and a statement?"
   ]
  },
  {
   "cell_type": "markdown",
   "id": "e45bd9fc",
   "metadata": {},
   "source": [
    "# A - 5"
   ]
  },
  {
   "cell_type": "markdown",
   "id": "5e986389",
   "metadata": {},
   "source": [
    "Expression:\n",
    "    An expression is a combination of values, variables, operators, and function calls that can be evaluated to produce a       resulting value. And it represents something & evalutes it & returns in Values.\n",
    "    Example : 5.6, (2*3)+5\n",
    "    \n",
    "    \n",
    "Statement:\n",
    "    A statement, on the other hand, is a complete instruction or action that performs a specific operation or task.\n",
    "    It does something,excutes that with results in action.\n",
    "    Example : print('this is print statement'), import pandas"
   ]
  },
  {
   "cell_type": "markdown",
   "id": "c53010ff",
   "metadata": {},
   "source": [
    "# Q - 6\n"
   ]
  },
  {
   "cell_type": "markdown",
   "id": "4b967139",
   "metadata": {},
   "source": [
    "After running the following code, what does the variable bacon contain?\n",
    "\n",
    "bacon = 22\n",
    "\n",
    "bacon + 1"
   ]
  },
  {
   "cell_type": "markdown",
   "id": "1ba06e92",
   "metadata": {},
   "source": [
    "# A - 6"
   ]
  },
  {
   "cell_type": "code",
   "execution_count": 2,
   "id": "9adb587f",
   "metadata": {},
   "outputs": [
    {
     "data": {
      "text/plain": [
       "22"
      ]
     },
     "execution_count": 2,
     "metadata": {},
     "output_type": "execute_result"
    }
   ],
   "source": [
    "bacon = 22 \n",
    "bacon + 1\n",
    "bacon"
   ]
  },
  {
   "cell_type": "markdown",
   "id": "014dd17c",
   "metadata": {},
   "source": [
    "# Q - 7"
   ]
  },
  {
   "cell_type": "markdown",
   "id": "f0627c90",
   "metadata": {},
   "source": [
    "What should the values of the following two terms be?\n",
    "\n",
    "'spam' + 'spamspam'\n",
    "\n",
    "'spam' * 3"
   ]
  },
  {
   "cell_type": "markdown",
   "id": "af1c93e2",
   "metadata": {},
   "source": [
    "# A - 7"
   ]
  },
  {
   "cell_type": "code",
   "execution_count": 6,
   "id": "34b8c6be",
   "metadata": {},
   "outputs": [
    {
     "name": "stdout",
     "output_type": "stream",
     "text": [
      "spamspamspam\n",
      "spamspamspam\n"
     ]
    }
   ],
   "source": [
    "a='spam' + 'spamspam'\n",
    "\n",
    "a1='spam' * 3\n",
    "\n",
    "print(a)\n",
    "print(a1)"
   ]
  },
  {
   "cell_type": "markdown",
   "id": "90cf2c6e",
   "metadata": {},
   "source": [
    "# Q - 8"
   ]
  },
  {
   "cell_type": "markdown",
   "id": "ec2d69bc",
   "metadata": {},
   "source": [
    "Why is eggs a valid variable name while 100 is invalid?"
   ]
  },
  {
   "cell_type": "markdown",
   "id": "cc1350ef",
   "metadata": {},
   "source": [
    "# A - 8"
   ]
  },
  {
   "cell_type": "markdown",
   "id": "2d90922c",
   "metadata": {},
   "source": [
    "A variable name must start with a letter or the underscore character. A variable name cannot start with a number. A variable name can only contain alpha-numeric characters and underscores (A-z, 0-9, and _ ) Variable names are case-sensitive (age, Age and AGE are three different variables)"
   ]
  },
  {
   "cell_type": "markdown",
   "id": "28ff51ad",
   "metadata": {},
   "source": [
    "# Q - 9"
   ]
  },
  {
   "cell_type": "markdown",
   "id": "c2458551",
   "metadata": {},
   "source": [
    "What three functions can be used to get the integer, floating-point number, or string\n",
    "version of a value?"
   ]
  },
  {
   "cell_type": "markdown",
   "id": "68756d40",
   "metadata": {},
   "source": [
    "# A - 9"
   ]
  },
  {
   "cell_type": "markdown",
   "id": "cd4000eb",
   "metadata": {},
   "source": [
    "int(): This function is used to convert a value to an integer. It extracts the whole number portion of a numeric value \n",
    "    and discards any decimal places. For example, int(5.8) would return the integer 5.\n",
    "\n",
    "float(): This function is used to convert a value to a floating-point number. It converts a value to a number with \n",
    "    decimal places, even if the original value was an integer. For example, float(3) would return the floating-point number 3.0.\n",
    "\n",
    "str(): This function is used to convert a value to a string. It converts a value to its textual representation. \n",
    "    For example, str(10) would return the string \"10\"."
   ]
  },
  {
   "cell_type": "markdown",
   "id": "cceb02c5",
   "metadata": {},
   "source": [
    "# Q - 10"
   ]
  },
  {
   "cell_type": "markdown",
   "id": "00faa3a7",
   "metadata": {},
   "source": [
    "Why does this expression cause an error? How can you fix it?\n",
    "'I have eaten ' + 99 + 'burritos'"
   ]
  },
  {
   "cell_type": "markdown",
   "id": "c5174143",
   "metadata": {},
   "source": [
    "# A - 10"
   ]
  },
  {
   "cell_type": "code",
   "execution_count": 8,
   "id": "107b39e8",
   "metadata": {},
   "outputs": [
    {
     "ename": "TypeError",
     "evalue": "can only concatenate str (not \"int\") to str",
     "output_type": "error",
     "traceback": [
      "\u001b[1;31m---------------------------------------------------------------------------\u001b[0m",
      "\u001b[1;31mTypeError\u001b[0m                                 Traceback (most recent call last)",
      "\u001b[1;32m~\\AppData\\Local\\Temp/ipykernel_15612/1358224126.py\u001b[0m in \u001b[0;36m<module>\u001b[1;34m\u001b[0m\n\u001b[0;32m      1\u001b[0m '''This is the type error we got when we run the program as str & int can't be concatenate So we can concatenate by\n\u001b[0;32m      2\u001b[0m    converting int to str'''\n\u001b[1;32m----> 3\u001b[1;33m \u001b[1;34m'I have eaten '\u001b[0m \u001b[1;33m+\u001b[0m \u001b[1;36m99\u001b[0m \u001b[1;33m+\u001b[0m \u001b[1;34m'burritos'\u001b[0m\u001b[1;33m\u001b[0m\u001b[1;33m\u001b[0m\u001b[0m\n\u001b[0m",
      "\u001b[1;31mTypeError\u001b[0m: can only concatenate str (not \"int\") to str"
     ]
    }
   ],
   "source": [
    "'''This is the type error we got when we run the program as str & int can't be concatenate So we can concatenate by\n",
    "   converting int to str'''\n",
    "\n",
    "'I have eaten ' + 99 + 'burritos'"
   ]
  },
  {
   "cell_type": "code",
   "execution_count": 9,
   "id": "a11fc6fe",
   "metadata": {},
   "outputs": [
    {
     "data": {
      "text/plain": [
       "'I have eaten 99burritos'"
      ]
     },
     "execution_count": 9,
     "metadata": {},
     "output_type": "execute_result"
    }
   ],
   "source": [
    "'I have eaten ' + str(99) + 'burritos'"
   ]
  },
  {
   "cell_type": "code",
   "execution_count": null,
   "id": "d529c661",
   "metadata": {},
   "outputs": [],
   "source": []
  }
 ],
 "metadata": {
  "kernelspec": {
   "display_name": "Python 3 (ipykernel)",
   "language": "python",
   "name": "python3"
  },
  "language_info": {
   "codemirror_mode": {
    "name": "ipython",
    "version": 3
   },
   "file_extension": ".py",
   "mimetype": "text/x-python",
   "name": "python",
   "nbconvert_exporter": "python",
   "pygments_lexer": "ipython3",
   "version": "3.9.7"
  }
 },
 "nbformat": 4,
 "nbformat_minor": 5
}

{
 "cells": [
  {
   "attachments": {},
   "cell_type": "markdown",
   "metadata": {},
   "source": [
    "Assignment_10"
   ]
  },
  {
   "attachments": {},
   "cell_type": "markdown",
   "metadata": {},
   "source": [
    "Q_1. What is the role of try and exception block?\n",
    "\n",
    "The try block lets you test a block of code for errors. The except block lets you handle the error. "
   ]
  },
  {
   "attachments": {},
   "cell_type": "markdown",
   "metadata": {},
   "source": [
    "Q_2. What is the syntax for a basic try-except block?"
   ]
  },
  {
   "attachments": {},
   "cell_type": "markdown",
   "metadata": {},
   "source": [
    "try:\n",
    "\n",
    "    # Code that may raise an exception.\n",
    "\n",
    "    # ...\n",
    "\n",
    "except ExceptionType:\n",
    "\n",
    "    # Code to handle the exception\n",
    "    \n",
    "    # ..."
   ]
  },
  {
   "attachments": {},
   "cell_type": "markdown",
   "metadata": {},
   "source": [
    "Q_3. What happens if an exception occurs inside a try block and there is no matching except block? \n",
    "\n",
    "If an exception occurs inside a try block and there is no matching except block to handle that specific exception, the exception will propagate up the call stack until it is caught by an outer try-except block or reaches the top level of the program. If the exception is not caught anywhere, the program will terminate, and an error message will be displayed, indicating the unhandled exception."
   ]
  },
  {
   "attachments": {},
   "cell_type": "markdown",
   "metadata": {},
   "source": [
    "Q_4. What is the difference between using a bare except block and specifying a specific exception type?\n",
    "\n",
    "Bare except block:\n",
    "\n",
    "a) When you use a bare except block (except:) without specifying any exception type, it will catch and handle any type of exception that occurs within the try block.\n",
    "\n",
    "b) This can be useful when you want to catch and handle all exceptions in a generic way, such as logging the error or displaying a general error message.\n",
    "\n",
    "c) However, using a bare except block without specifying the exception type can make it harder to debug and identify specific issues because you don't know which exception occurred.\n",
    "\n",
    "\n",
    "Specific exception type:\n",
    "\n",
    "a) When you specify a specific exception type in an except block (except ExceptionType:), it will only catch and handle exceptions of that particular type (or its subclasses).\n",
    "\n",
    "b) This allows you to handle different exceptions differently based on their types and provides more control over the exception handling process.\n",
    "\n",
    "c) By specifying the exception type, you can write specific code to handle that type of exception and potentially take appropriate actions.\n",
    "\n",
    "d) It helps in identifying and addressing specific exceptions, making it easier to debug and maintain the code."
   ]
  },
  {
   "attachments": {},
   "cell_type": "markdown",
   "metadata": {},
   "source": [
    "Q_5. Can you have nested try-except blocks in Python? If yes, then give an example."
   ]
  },
  {
   "cell_type": "code",
   "execution_count": 6,
   "metadata": {},
   "outputs": [
    {
     "name": "stdout",
     "output_type": "stream",
     "text": [
      "numerator enterd is: 8\n",
      "denominator enterd is: 4\n",
      "Result: 2.0\n"
     ]
    }
   ],
   "source": [
    "try:\n",
    "    # Outer try block\n",
    "    num1 = int(input(\"Enter the numerator: \"))\n",
    "    num2 = int(input(\"Enter the denominator: \"))\n",
    "    \n",
    "    try:\n",
    "        # Inner try block\n",
    "        result = num1 / num2\n",
    "        print('numerator enterd is:',num1)\n",
    "        print('denominator enterd is:',num2)\n",
    "        print(\"Result:\", result)\n",
    "        \n",
    "    except ZeroDivisionError:\n",
    "        print(\"Error: Cannot divide by zero.\")\n",
    "        \n",
    "except ValueError:\n",
    "    print(\"Error: Invalid input. Please enter valid integers.\")\n"
   ]
  },
  {
   "attachments": {},
   "cell_type": "markdown",
   "metadata": {},
   "source": [
    "Q_6. Can we use multiple exception blocks, if yes then give an example."
   ]
  },
  {
   "cell_type": "code",
   "execution_count": 12,
   "metadata": {},
   "outputs": [
    {
     "name": "stdout",
     "output_type": "stream",
     "text": [
      "numerator enterd is: 8\n",
      "denominator enterd is: 8\n",
      "Result: 1.0\n"
     ]
    }
   ],
   "source": [
    "try:\n",
    "    # Code that may raise exceptions\n",
    "    num1 = int(input(\"Enter the numerator: \"))\n",
    "    num2 = int(input(\"Enter the denominator: \"))\n",
    "    \n",
    "    result = num1 / num2\n",
    "    print('numerator enterd is:',num1)\n",
    "    print('denominator enterd is:',num2)\n",
    "    print(\"Result:\", result)\n",
    "    \n",
    "except ValueError:\n",
    "    print(\"Error: Invalid input. Please enter valid integers.\")\n",
    "    \n",
    "except ZeroDivisionError:\n",
    "    print(\"Error: Cannot divide by zero.\")\n",
    "    \n",
    "except Exception as e:\n",
    "    print(\"An error occurred:\", str(e))\n"
   ]
  },
  {
   "attachments": {},
   "cell_type": "markdown",
   "metadata": {},
   "source": [
    "Q_7. Write the reason due to which following errors are raised:\n",
    "a. EOFError\n",
    "\n",
    "b. FloatingPointError\n",
    "\n",
    "c. IndexError\n",
    "\n",
    "d. MemoryError\n",
    "\n",
    "e. OverflowError\n",
    "\n",
    "f. TabError\n",
    "\n",
    "g. ValueError"
   ]
  },
  {
   "attachments": {},
   "cell_type": "markdown",
   "metadata": {},
   "source": [
    "a) EOFError: This error occurs when there is an unexpected end of file or input. It typically happens when a function or statement tries to read beyond the end of a file or when the user cancels input during a input() function call.\n",
    "\n",
    "b) FloatingPointError: This error occurs when there is an error in a floating-point operation, such as division by zero or an operation resulting in an overflow or underflow.\n",
    "\n",
    "c) IndexError: This error occurs when an index used to access an element in a sequence (such as a list, tuple, or string) is out of range. It typically happens when the index is greater than or equal to the length of the sequence or less than zero.\n",
    "\n",
    "d) MemoryError: This error occurs when the Python program runs out of available memory to allocate for new objects. It indicates that there is insufficient memory to complete an operation or create a new object.\n",
    "\n",
    "e) OverflowError: This error occurs when a mathematical operation results in a value that is too large to be represented within the range of the numeric type. It typically occurs when trying to perform calculations that exceed the maximum representable value.\n",
    "\n",
    "f) TabError: This error occurs when there are inconsistencies or incorrect usage of tabs and spaces for indentation in Python code. It usually happens when mixing tabs and spaces or when the indentation level is not consistent.\n",
    "\n",
    "g) ValueError: This error occurs when a function receives an argument of the correct type but with an invalid value. It indicates that the value provided does not meet the expected criteria or is not suitable for the operation or function being performed."
   ]
  },
  {
   "attachments": {},
   "cell_type": "markdown",
   "metadata": {},
   "source": [
    "Write code for the following given scenario and add try-exception block to it.\n",
    "\n",
    "a. Program to divide two numbers\n",
    "\n",
    "b. Program to convert a string to an integer\n",
    "\n",
    "c. Program to access an element in a list\n",
    "\n",
    "d. Program to handle a specific exception\n",
    "\n",
    "e. Program to handle any exception"
   ]
  },
  {
   "cell_type": "code",
   "execution_count": 13,
   "metadata": {},
   "outputs": [
    {
     "name": "stdout",
     "output_type": "stream",
     "text": [
      "numerator enterd is: 20\n",
      "denominator enterd is: 5\n",
      "Result: 4.0\n"
     ]
    }
   ],
   "source": [
    "#a) Program to divide two numbers\n",
    "\n",
    "try:\n",
    "    a=int(input('enter the num_1'))\n",
    "    b=int(input('enter the num_2'))\n",
    "\n",
    "    result = a / b\n",
    "    print('numerator enterd is:',a)\n",
    "    print('denominator enterd is:',b)\n",
    "    print(\"Result:\", result)\n",
    "    \n",
    "except ValueError:\n",
    "    print(\"Error: Invalid input. Please enter valid integers.\")\n",
    "    \n",
    "except ZeroDivisionError:\n",
    "    print(\"Error: Cannot divide by zero.\")\n",
    "    "
   ]
  },
  {
   "cell_type": "code",
   "execution_count": 19,
   "metadata": {},
   "outputs": [
    {
     "name": "stdout",
     "output_type": "stream",
     "text": [
      "5\n"
     ]
    }
   ],
   "source": [
    "#b) Program to convert a string to an integer\n",
    "\n",
    "try:\n",
    "    a='5'\n",
    "    b=int(a)\n",
    "    print(b)\n",
    "    type(b)\n",
    "except ValueError:\n",
    "    print(\"Error: Invalid input. Please enter valid integers.\")"
   ]
  },
  {
   "cell_type": "code",
   "execution_count": 24,
   "metadata": {},
   "outputs": [],
   "source": [
    "#c) Program to access an element in a list\n",
    "try:\n",
    "    a=[1,2,3,'naveen','kumar',3.25,'ML']\n",
    "    a[3]\n",
    "except IndexError:\n",
    "    print(\"Error: Invalid index. Please enter valid index.\")\n",
    "    "
   ]
  },
  {
   "cell_type": "code",
   "execution_count": 25,
   "metadata": {},
   "outputs": [
    {
     "name": "stdout",
     "output_type": "stream",
     "text": [
      "Result: 2.5\n"
     ]
    }
   ],
   "source": [
    "#d) Program to handle a specific exception\n",
    "\n",
    "try:\n",
    "    num1 = int(input(\"Enter the numerator: \"))\n",
    "    num2 = int(input(\"Enter the denominator: \"))\n",
    "    \n",
    "    result = num1 / num2\n",
    "    print(\"Result:\", result)\n",
    "    \n",
    "except ZeroDivisionError:\n",
    "    print(\"Error: Cannot divide by zero.\")\n",
    "\n"
   ]
  },
  {
   "cell_type": "code",
   "execution_count": 26,
   "metadata": {},
   "outputs": [
    {
     "name": "stdout",
     "output_type": "stream",
     "text": [
      "An error occurred: invalid literal for int() with base 10: '8/0'\n"
     ]
    }
   ],
   "source": [
    "#e) Program to handle any exception\n",
    "\n",
    "try:\n",
    "    num1 = int(input(\"Enter the numerator: \"))\n",
    "    num2 = int(input(\"Enter the denominator: \"))\n",
    "    \n",
    "    result = num1 / num2\n",
    "    print(\"Result:\", result)\n",
    "    \n",
    "except Exception as e:\n",
    "    print(\"An error occurred:\", str(e))\n"
   ]
  },
  {
   "cell_type": "code",
   "execution_count": 12,
   "metadata": {},
   "outputs": [
    {
     "ename": "TypeError",
     "evalue": "sum() takes 0 positional arguments but 2 were given",
     "output_type": "error",
     "traceback": [
      "\u001b[1;31m---------------------------------------------------------------------------\u001b[0m",
      "\u001b[1;31mTypeError\u001b[0m                                 Traceback (most recent call last)",
      "Cell \u001b[1;32mIn[12], line 11\u001b[0m\n\u001b[0;32m      7\u001b[0m         \u001b[39mprint\u001b[39m(\u001b[39m'\u001b[39m\u001b[39mplease try to enter the num > 2\u001b[39m\u001b[39m'\u001b[39m)\n\u001b[0;32m      9\u001b[0m     \u001b[39mreturn\u001b[39;00m c\n\u001b[1;32m---> 11\u001b[0m \u001b[39msum\u001b[39;49m(\u001b[39m1\u001b[39;49m,\u001b[39m4\u001b[39;49m)\n",
      "\u001b[1;31mTypeError\u001b[0m: sum() takes 0 positional arguments but 2 were given"
     ]
    }
   ],
   "source": [
    "def sum():\n",
    "    try:\n",
    "        if a>=2:\n",
    "            c=a+b\n",
    "            print(c)\n",
    "    except:\n",
    "        print('please try to enter the num > 2')\n",
    "\n",
    "    return c\n",
    "\n",
    "sum(1,4)"
   ]
  }
 ],
 "metadata": {
  "kernelspec": {
   "display_name": "base",
   "language": "python",
   "name": "python3"
  },
  "language_info": {
   "codemirror_mode": {
    "name": "ipython",
    "version": 3
   },
   "file_extension": ".py",
   "mimetype": "text/x-python",
   "name": "python",
   "nbconvert_exporter": "python",
   "pygments_lexer": "ipython3",
   "version": "3.9.7"
  },
  "orig_nbformat": 4
 },
 "nbformat": 4,
 "nbformat_minor": 2
}

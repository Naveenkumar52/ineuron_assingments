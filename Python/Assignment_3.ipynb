{
 "cells": [
  {
   "cell_type": "markdown",
   "id": "40fd5754",
   "metadata": {},
   "source": [
    "Q -1. Why are functions advantageous to have in your programs?"
   ]
  },
  {
   "cell_type": "markdown",
   "id": "d163845a",
   "metadata": {},
   "source": [
    "a) Functions allow you to do a set of instructions that perform a specific task. This makes it easy to reuse the same block \n",
    "of code multiple times in a program without duplicating it. By calling a function, we can execute the code within it \n",
    "whenever needed.\n",
    "\n",
    "b) by breaking down a complex program into smaller, manageable units. Each function can focus on a specific task, \n",
    "making the code more organized and easier to understand, maintain, and debug.\n",
    "\n",
    "c)Functions can be written once and reused in multiple parts of the program, as well as in different programs altogether. \n",
    "This saves time and effort, promotes standardization, and allows for the development of libraries and frameworks that can \n",
    "be utilized by various applications."
   ]
  },
  {
   "cell_type": "markdown",
   "id": "b62f3517",
   "metadata": {},
   "source": [
    "Q -2. When does the code in a function run: when it&#39;s specified or when it&#39;s called?"
   ]
  },
  {
   "cell_type": "markdown",
   "id": "93adeab5",
   "metadata": {},
   "source": [
    "The code in a function runs when the function is called, not when it is specified. Defining or declaring a function simply defines its structure, inputs, and outputs, but the actual execution of the code within the function occurs when the function is invoked or called."
   ]
  },
  {
   "cell_type": "markdown",
   "id": "f6125b7f",
   "metadata": {},
   "source": [
    "Q -3. What statement creates a function?"
   ]
  },
  {
   "cell_type": "markdown",
   "id": "ffdb17ec",
   "metadata": {},
   "source": [
    " The def statement defines (i.e. creates) a function.\n",
    " \n",
    " \n",
    "Eg .\n",
    "\n",
    "def my_func():\n",
    "\n",
    "pass"
   ]
  },
  {
   "cell_type": "markdown",
   "id": "10a19482",
   "metadata": {},
   "source": [
    "Q -4. What is the difference between a function and a function call?"
   ]
  },
  {
   "cell_type": "markdown",
   "id": "1f2c8508",
   "metadata": {},
   "source": [
    "A function consists of the def statement and the code in its def clause.\n",
    "\n",
    "A function call is what moves the program for execution into the function, and the function call evaluates to the \n",
    "function's return value.\n",
    "\n",
    "In summary, a function is a reusable block of code that performs a specific task, while a function call is the act of executing a specific function at a particular point in a program. Functions are defined once, and their code can be invoked or called multiple times throughout the program's execution to execute the instructions within the function."
   ]
  },
  {
   "cell_type": "markdown",
   "id": "002684e8",
   "metadata": {},
   "source": [
    "Q -5. How many global scopes are there in a Python program? How many local scopes?"
   ]
  },
  {
   "cell_type": "markdown",
   "id": "e508b0c2",
   "metadata": {},
   "source": [
    "there is one global scope that exists throughout the entire Python program, and local scopes are created and destroyed \n",
    "dynamically as functions are called and completed."
   ]
  },
  {
   "cell_type": "markdown",
   "id": "b18251b9",
   "metadata": {},
   "source": [
    "Q -6. What happens to variables in a local scope when the function call returns?"
   ]
  },
  {
   "cell_type": "markdown",
   "id": "03a97d1a",
   "metadata": {},
   "source": [
    "When a function call returns, the local scope associated with that function is destroyed, \n",
    "and the variables defined within that local scope are no longer accessible. This process is known as \"variable scope\" \n",
    "or \"scope resolution\" in Python."
   ]
  },
  {
   "cell_type": "markdown",
   "id": "05f895a0",
   "metadata": {},
   "source": [
    "Q -7. What is the concept of a return value? Is it possible to have a return value in an expression?"
   ]
  },
  {
   "cell_type": "markdown",
   "id": "532d7d40",
   "metadata": {},
   "source": [
    "The return value of a function allows the calling code to receive and utilize the result of the function's \n",
    "computation. It provides a mechanism for passing data from the function back to the caller. The return value can be of \n",
    "any data type, such as integers, strings, lists, or even complex objects.\n",
    "\n",
    "yes, it is possible to have a return value in an expression\n",
    "\n",
    "for example :\n",
    "\n",
    "def add_numbers(a, b):\n",
    "\n",
    "    return a + b\n",
    "\n",
    "result = add_numbers(5, 3) * 2\n",
    "\n",
    "print(result)\n",
    "\n",
    "In this example, the return value of the add_numbers function is used within the expression (5 + 3) * 2. The function adds the values of a and b and returns the sum, which is then multiplied by 2. The final result, 16, is assigned to the result variable and printed."
   ]
  },
  {
   "cell_type": "markdown",
   "id": "2f1546b3",
   "metadata": {},
   "source": [
    "Q -8. If a function does not have a return statement, what is the return value of a call to that function?"
   ]
  },
  {
   "cell_type": "markdown",
   "id": "7592850c",
   "metadata": {},
   "source": [
    "if a function does not explicitly specify a return value using the return statement, \n",
    "the function will automatically return None by default. None is a special built-in constant that \n",
    "represents the absence of a value."
   ]
  },
  {
   "cell_type": "markdown",
   "id": "5aeee334",
   "metadata": {},
   "source": [
    "Q -9. How do you make a function variable refer to the global variable?"
   ]
  },
  {
   "cell_type": "markdown",
   "id": "dcd2bd26",
   "metadata": {},
   "source": [
    "To make function variable as a global variable you can use the global keyword to declare which variables are global."
   ]
  },
  {
   "cell_type": "markdown",
   "id": "d32f6bf9",
   "metadata": {},
   "source": [
    "Q -10. What is the data type of None?"
   ]
  },
  {
   "cell_type": "markdown",
   "id": "1151bbdc",
   "metadata": {},
   "source": [
    "NoneType is the data type of None"
   ]
  },
  {
   "cell_type": "markdown",
   "id": "f739eb72",
   "metadata": {},
   "source": [
    "Q -11. What does the sentence import areallyourpetsnamederic do?"
   ]
  },
  {
   "cell_type": "markdown",
   "id": "7188fb70",
   "metadata": {},
   "source": [
    "It actully imports a module named \"areallyourpetsnamederic\". (But a module of this name doesnt exists in Python)"
   ]
  },
  {
   "cell_type": "markdown",
   "id": "6fd5e9b1",
   "metadata": {},
   "source": [
    "Q -12. If you had a bacon() feature in a spam module, what would you call it after importing spam?"
   ]
  },
  {
   "cell_type": "markdown",
   "id": "2358608f",
   "metadata": {},
   "source": [
    "import spam\n",
    "\n",
    "spam.bacon()"
   ]
  },
  {
   "cell_type": "markdown",
   "id": "94cae9ae",
   "metadata": {},
   "source": [
    "Q -13. What can you do to save a programme from crashing if it encounters an error?"
   ]
  },
  {
   "cell_type": "markdown",
   "id": "65f87139",
   "metadata": {},
   "source": [
    "We can use the try-except statement to implement exception handling. "
   ]
  },
  {
   "cell_type": "markdown",
   "id": "b560aaba",
   "metadata": {},
   "source": [
    "Q -14. What is the purpose of the try clause? What is the purpose of the except clause?"
   ]
  },
  {
   "cell_type": "markdown",
   "id": "bb61587c",
   "metadata": {},
   "source": [
    "The code within the try block is executed, and if an error occurs, it is caught by the corresponding except block. "
   ]
  },
  {
   "cell_type": "code",
   "execution_count": null,
   "id": "c9f8a90b",
   "metadata": {},
   "outputs": [],
   "source": []
  }
 ],
 "metadata": {
  "kernelspec": {
   "display_name": "Python 3 (ipykernel)",
   "language": "python",
   "name": "python3"
  },
  "language_info": {
   "codemirror_mode": {
    "name": "ipython",
    "version": 3
   },
   "file_extension": ".py",
   "mimetype": "text/x-python",
   "name": "python",
   "nbconvert_exporter": "python",
   "pygments_lexer": "ipython3",
   "version": "3.9.7"
  }
 },
 "nbformat": 4,
 "nbformat_minor": 5
}

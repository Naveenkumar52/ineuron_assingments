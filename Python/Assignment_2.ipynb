{
 "cells": [
  {
   "cell_type": "markdown",
   "id": "560e1fa2",
   "metadata": {},
   "source": [
    "# Assignment_2"
   ]
  },
  {
   "cell_type": "markdown",
   "id": "27e6ee66",
   "metadata": {},
   "source": [
    "1.What are the two values of the Boolean data type? How do you write them?"
   ]
  },
  {
   "cell_type": "markdown",
   "id": "9d902eba",
   "metadata": {},
   "source": [
    "Booleans represent one of two values: True or False.\n",
    "\n",
    "print(10 > 9)\n",
    "\n",
    "print(10 == 9)\n",
    "\n",
    "True\n",
    "\n",
    "False\n"
   ]
  },
  {
   "cell_type": "markdown",
   "id": "830a0dad",
   "metadata": {},
   "source": [
    "2. What are the three different types of Boolean operators?"
   ]
  },
  {
   "cell_type": "markdown",
   "id": "32718dac",
   "metadata": {},
   "source": [
    "Boolean Operators are simple words (AND, OR, & NOT)"
   ]
  },
  {
   "cell_type": "code",
   "execution_count": 1,
   "id": "ce883eba",
   "metadata": {},
   "outputs": [
    {
     "name": "stdout",
     "output_type": "stream",
     "text": [
      "The condition satisfied\n"
     ]
    }
   ],
   "source": [
    "if 2>1 and 2<3 :\n",
    "    print('The condition satisfied')\n",
    "else:\n",
    "    print('The condition Failed')"
   ]
  },
  {
   "cell_type": "code",
   "execution_count": 3,
   "id": "a4fef441",
   "metadata": {},
   "outputs": [
    {
     "name": "stdout",
     "output_type": "stream",
     "text": [
      "Condition Failed\n"
     ]
    }
   ],
   "source": [
    "if 2>3 or 1>2 :\n",
    "    print ('Condition Passed')\n",
    "else :\n",
    "    print('Condition Failed')"
   ]
  },
  {
   "cell_type": "code",
   "execution_count": 4,
   "id": "4d460019",
   "metadata": {},
   "outputs": [
    {
     "name": "stdout",
     "output_type": "stream",
     "text": [
      "Correct\n"
     ]
    }
   ],
   "source": [
    "a=['x','y','z']\n",
    "\n",
    "if 'b' not in a:\n",
    "    print('Correct')\n",
    "else:\n",
    "    print('Worng')"
   ]
  },
  {
   "cell_type": "markdown",
   "id": "622ab737",
   "metadata": {},
   "source": [
    "3. Make a list of each Boolean operator&#39;s truth tables (i.e. every possible combination of Boolean\n",
    "values for the operator and what it evaluate )."
   ]
  },
  {
   "cell_type": "markdown",
   "id": "5c571149",
   "metadata": {},
   "source": [
    "And operator\n",
    "\n",
    " True and True is True.\n",
    "\n",
    " True and False is False.\n",
    "\n",
    " False and True is False.\n",
    "\n",
    " False and False is False.\n",
    "\n",
    "OR operator\n",
    "\n",
    " True or True is True.\n",
    "\n",
    " True or False is True.\n",
    "\n",
    " False or True is True.\n",
    "\n",
    " False or False is False.\n",
    "\n",
    "Not operator\n",
    "\n",
    " not True is False.\n",
    "\n",
    " not False is True."
   ]
  },
  {
   "cell_type": "markdown",
   "id": "4168cd1a",
   "metadata": {},
   "source": [
    "4. What are the values of the following expressions?"
   ]
  },
  {
   "cell_type": "code",
   "execution_count": 1,
   "id": "567b755b",
   "metadata": {},
   "outputs": [
    {
     "name": "stdout",
     "output_type": "stream",
     "text": [
      "False\n",
      "False\n",
      "True\n",
      "False\n",
      "False\n",
      "True\n"
     ]
    }
   ],
   "source": [
    "print((5>4) and (3==5))\n",
    "print(not(5>4))\n",
    "print((5>4) or (3==5))\n",
    "print(not(5>4) or (3==5))\n",
    "print((True and True) and (True==False))\n",
    "print((not(False))or(not(True)))"
   ]
  },
  {
   "cell_type": "markdown",
   "id": "eba47545",
   "metadata": {},
   "source": [
    "5. What are the six comparison operators?"
   ]
  },
  {
   "cell_type": "markdown",
   "id": "076bf0c5",
   "metadata": {},
   "source": [
    "Ans . ==, !=, <, >, <=, and >="
   ]
  },
  {
   "cell_type": "markdown",
   "id": "0d7fb607",
   "metadata": {},
   "source": [
    "6. How do you tell the difference between the equal to and assignment operators?Describe a\n",
    "condition and when you would use one."
   ]
  },
  {
   "cell_type": "markdown",
   "id": "3eef26b6",
   "metadata": {},
   "source": [
    "== is the equal to operator that is used to comparing between two values and evaluates to a Boolean, \n",
    "\n",
    "while = is the assignment operator that stores a value in a variable."
   ]
  },
  {
   "cell_type": "code",
   "execution_count": 5,
   "id": "0ebf6670",
   "metadata": {},
   "outputs": [
    {
     "name": "stdout",
     "output_type": "stream",
     "text": [
      "wrong\n",
      "n= 5\n"
     ]
    }
   ],
   "source": [
    "#Example for == operator\n",
    "a=2\n",
    "b=3\n",
    "if a==b:\n",
    "    print('Correct')\n",
    "else:\n",
    "    print('wrong')\n",
    "    \n",
    "#Example for = operator\n",
    "n=5\n",
    "print('n=',n)"
   ]
  },
  {
   "cell_type": "markdown",
   "id": "7bf35f32",
   "metadata": {},
   "source": [
    "7. Identify the three blocks in this code:"
   ]
  },
  {
   "cell_type": "code",
   "execution_count": 8,
   "id": "d967f666",
   "metadata": {},
   "outputs": [
    {
     "name": "stdout",
     "output_type": "stream",
     "text": [
      "ham\n",
      "spam\n",
      "spam\n"
     ]
    }
   ],
   "source": [
    "spam = 0\n",
    "if spam == 10:\n",
    "    print('eggs') #Block 1\n",
    "if spam > 5:\n",
    "    print('bacon') #Block 2\n",
    "else:\n",
    "    print('ham') #Block 3\n",
    "    print('spam')\n",
    "    print('spam')"
   ]
  },
  {
   "cell_type": "markdown",
   "id": "923aa73b",
   "metadata": {},
   "source": [
    "8. Write code that prints Hello if 1 is stored in spam, prints Howdy if 2 is stored in spam, and prints\n",
    "Greetings! if anything else is stored in spam."
   ]
  },
  {
   "cell_type": "code",
   "execution_count": 16,
   "id": "207eed17",
   "metadata": {},
   "outputs": [
    {
     "name": "stdout",
     "output_type": "stream",
     "text": [
      "Enter the value :1\n",
      "spam\n"
     ]
    }
   ],
   "source": [
    "spam= int(input('Enter the value :'))\n",
    "\n",
    "if spam==1 :\n",
    "    print('spam')\n",
    "elif spam==2 :\n",
    "    print('Howdy')\n",
    "else:\n",
    "    print('Greetings')"
   ]
  },
  {
   "cell_type": "markdown",
   "id": "1219613b",
   "metadata": {},
   "source": [
    "9.If your programme is stuck in an endless loop, what keys you’ll press?"
   ]
  },
  {
   "cell_type": "markdown",
   "id": "bcd2379f",
   "metadata": {},
   "source": [
    "if it enters in the endless loop then these combinations may work better in that type of situations :\n",
    "\n",
    "1. Ctrl + C\n",
    "\n",
    "2. Ctrl + Break\n",
    "3.Ctrl + Alt + Del"
   ]
  },
  {
   "cell_type": "markdown",
   "id": "20da321b",
   "metadata": {},
   "source": [
    "10. How can you tell the difference between break and continue?"
   ]
  },
  {
   "cell_type": "markdown",
   "id": "713ae4c2",
   "metadata": {},
   "source": [
    "Break - The break statement terminates the loop immediately & control flows to the statement after the body of the loop\n",
    "\n",
    "Continue - The continue statement terminates current iteration of the statement, skips the rest of the code in the current\n",
    "          iteration & the control flows to the next iteration of the loop."
   ]
  },
  {
   "cell_type": "code",
   "execution_count": 23,
   "id": "aa8cec2e",
   "metadata": {},
   "outputs": [
    {
     "name": "stdout",
     "output_type": "stream",
     "text": [
      "Abhishek\n",
      "Balu\n",
      "Chandru\n",
      "Darshan\n",
      "----***---\n",
      "Abhishek\n",
      "Balu\n",
      "Chandru\n",
      "Eshwar\n",
      "Farukh\n",
      "Ganesh\n"
     ]
    }
   ],
   "source": [
    "a = ['Abhishek','Balu','Chandru','Darshan','Eshwar','Farukh','Ganesh']\n",
    "for x in a:     #Break\n",
    "    print (x)\n",
    "    if x=='Darshan':\n",
    "        break\n",
    "    \n",
    "print('----***---')   \n",
    "\n",
    "for x in a:    #Continue\n",
    "    if x=='Darshan':\n",
    "        continue\n",
    "    print(x)"
   ]
  },
  {
   "cell_type": "markdown",
   "id": "92f6523b",
   "metadata": {},
   "source": [
    "11. In a for loop, what is the difference between range(10), range(0, 10), and range(0, 10, 1)?"
   ]
  },
  {
   "cell_type": "code",
   "execution_count": 31,
   "id": "e90a5599",
   "metadata": {},
   "outputs": [
    {
     "name": "stdout",
     "output_type": "stream",
     "text": [
      "0\n",
      "1\n",
      "2\n",
      "3\n",
      "4\n",
      "5\n",
      "6\n",
      "7\n",
      "8\n",
      "9\n",
      "-----***-----\n",
      "0\n",
      "1\n",
      "2\n",
      "3\n",
      "4\n",
      "5\n",
      "6\n",
      "7\n",
      "8\n",
      "9\n",
      "-----***-----\n",
      "0\n",
      "1\n",
      "2\n",
      "3\n",
      "4\n",
      "5\n",
      "6\n",
      "7\n",
      "8\n",
      "9\n",
      "-----***-----\n"
     ]
    }
   ],
   "source": [
    "\n",
    "for i in range(10):\n",
    "    print(i)\n",
    "print('-----***-----')\n",
    "\n",
    "for i in range(0,10):\n",
    "    print(i)\n",
    "print('-----***-----')\n",
    "\n",
    "for i in range(0,10,1):\n",
    "    print(i)\n",
    "print('-----***-----')\n"
   ]
  },
  {
   "cell_type": "markdown",
   "id": "44f974f4",
   "metadata": {},
   "source": [
    "From the above example we can conclude that all 3 will do the same thing range(10) will print till 9 (excluding 10),while\n",
    "range(0,10) says will print till 9 from 0 & range(0,10,1) tells print 0 till 9 with 1 increment."
   ]
  },
  {
   "cell_type": "markdown",
   "id": "aaf9dd0a",
   "metadata": {},
   "source": [
    "12. Write a short program that prints the numbers 1 to 10 using a for loop. Then write an equivalent\n",
    "program that prints the numbers 1 to 10 using a while loop."
   ]
  },
  {
   "cell_type": "code",
   "execution_count": 35,
   "id": "d81d9802",
   "metadata": {},
   "outputs": [
    {
     "name": "stdout",
     "output_type": "stream",
     "text": [
      "1\n",
      "2\n",
      "3\n",
      "4\n",
      "5\n",
      "6\n",
      "7\n",
      "8\n",
      "9\n",
      "10\n",
      "---***---\n",
      "1\n",
      "2\n",
      "3\n",
      "4\n",
      "5\n",
      "6\n",
      "7\n",
      "8\n",
      "9\n",
      "10\n",
      "---***---\n"
     ]
    }
   ],
   "source": [
    "for i in range(1,11): #for loop\n",
    "    print(i)\n",
    "print('---***---')\n",
    "\n",
    "a=1\n",
    "while a<=10:          #while loop\n",
    "    print(a)\n",
    "    a+=1\n",
    "print('---***---')"
   ]
  },
  {
   "cell_type": "markdown",
   "id": "cb1d119b",
   "metadata": {},
   "source": [
    "13. If you had a function named bacon() inside a module named spam, how would you call it after\n",
    "importing spam?"
   ]
  },
  {
   "cell_type": "markdown",
   "id": "5404bbde",
   "metadata": {},
   "source": [
    "This function can be called with spam.bacon()."
   ]
  },
  {
   "cell_type": "code",
   "execution_count": null,
   "id": "af846947",
   "metadata": {},
   "outputs": [],
   "source": []
  }
 ],
 "metadata": {
  "kernelspec": {
   "display_name": "Python 3 (ipykernel)",
   "language": "python",
   "name": "python3"
  },
  "language_info": {
   "codemirror_mode": {
    "name": "ipython",
    "version": 3
   },
   "file_extension": ".py",
   "mimetype": "text/x-python",
   "name": "python",
   "nbconvert_exporter": "python",
   "pygments_lexer": "ipython3",
   "version": "3.9.7"
  }
 },
 "nbformat": 4,
 "nbformat_minor": 5
}
